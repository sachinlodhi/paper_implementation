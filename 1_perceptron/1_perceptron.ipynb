{
  "nbformat": 4,
  "nbformat_minor": 0,
  "metadata": {
    "colab": {
      "provenance": []
    },
    "kernelspec": {
      "name": "python3",
      "display_name": "Python 3"
    },
    "language_info": {
      "name": "python"
    }
  },
  "cells": [
    {
      "cell_type": "markdown",
      "source": [
        "As I avoid the classes now let me work with the classes this time."
      ],
      "metadata": {
        "id": "hzUFLPjD8TZ3"
      }
    },
    {
      "cell_type": "code",
      "source": [
        "class RPerceptron:\n",
        "\n",
        "  # constructor invokes and intializes all the vars\n",
        "  def __init__(self, learning_rate = 0.1, iterations = 100):\n",
        "    ''' learning rate: magnitude modifier to update strength of the connection,\n",
        "    iterations = number of times the input is fed to the model\n",
        "    weights = strength associating input and neuron\n",
        "    thresh = value/function that lets the info flow/makes neuron activated/not-activated\n",
        "    '''\n",
        "    self.lr = learning_rate\n",
        "    self.iters = iterations\n",
        "    self.weights = []\n",
        "    self.thresh = 0 # initially start with 'sleep' i.e. not actiavted\n",
        "\n",
        "  def activation (self, impulse):\n",
        "    ''' literally what it says it is i.e. Activation function'''\n",
        "    if impulse>=self.thresh: # activate if the impulse is more than a trained thresh\n",
        "      return 1\n",
        "    else:\n",
        "      return 0\n",
        "\n",
        "  def train(self, X, y):\n",
        "    ''' num_features: considering the dataset/sensory input is simple like a table,\n",
        "    where row represent individual occurrence of sense and column represent the propoerty/strength\n",
        "    of that sense.\n",
        "    self.weights: this will be connected to each input for simplicity\n",
        "    self.threshold: just initialization\n",
        "    '''\n",
        "    num_features = len(X[0]) # any element from X will work\n",
        "    self.weights = [0] * num_features # creating connections\n",
        "    self.thres = 0\n",
        "\n",
        "    # This loop will start training\n",
        "    for iter in range(self.iters): # this kinda works as epoch that we do not need to worry about yet(keeping it closer to the terms in the paper)\n",
        "\n",
        "        for sample in range(len(X)): # get each training example and iterate over that\n",
        "          impulse = 0 # the sum of strength of the connection(weights) and the input\n",
        "          for feature in range(num_features):\n",
        "            impulse += self.weights[feature] * X[sample][feature] # weighted sum\n",
        "\n",
        "          response = self.activation(impulse) # pass the the impuls to the stepwise function\n",
        "\n",
        "          # error calculation\n",
        "          error = y[sample] - response\n",
        "\n",
        "          # updating weights\n",
        "          for features in range(num_features):\n",
        "            self.weights[features] = self.weights[features] + self.lr * error * X[sample][features]\n",
        "\n",
        "          # threshold update(works as a bias in modern networks)\n",
        "          self.thresh = self.thresh - self.lr * error\n",
        "        print(f'Iteartion : {iter}, strength of connection: {self.weights}, threshold: {self.thresh}, error: {error}')\n",
        "\n",
        "\n",
        "\n",
        "  ''' function to make predictions '''\n",
        "\n",
        "  def predict(self, X):\n",
        "    predictions = [] # stores the output produced by neuron\n",
        "\n",
        "    for sample in range(len(X)): # make prediction on each sample with trained model\n",
        "      impulse = 0 # this stores the pre-activation output\n",
        "      for feature in range(len(X[sample])):\n",
        "        impulse = impulse + self.weights[feature] * X[sample][feature] # weighted sum LOL\n",
        "      pred = self.activation(impulse) # send the impulse to the activation function\n",
        "      predictions.append(pred)\n",
        "    return predictions\n",
        "\n",
        "\n"
      ],
      "metadata": {
        "id": "LouNTnZE8Sji"
      },
      "execution_count": null,
      "outputs": []
    },
    {
      "cell_type": "markdown",
      "source": [
        "Now define a very simple data. Let us keep it linearly separable and for that we can have AND gate logic\n"
      ],
      "metadata": {
        "id": "vStB7Bw6It_V"
      }
    },
    {
      "cell_type": "code",
      "source": [
        "''' inputs and outputs for AND gate '''\n",
        "\n",
        "inputs = [[0,0],\n",
        "          [0,1],\n",
        "          [1,0],\n",
        "          [1,1]]\n",
        "outputs = [0, 0, 0, 1]\n",
        "\n",
        "\n",
        "\n",
        "# let us create the model\n",
        "perceptron = RPerceptron(learning_rate=0.1, iterations=10)\n",
        "perceptron.train(inputs, outputs)\n"
      ],
      "metadata": {
        "colab": {
          "base_uri": "https://localhost:8080/"
        },
        "id": "yboKi8yhIrfK",
        "outputId": "96a7bda6-5ad0-4373-c827-55f9f3f21959"
      },
      "execution_count": null,
      "outputs": [
        {
          "output_type": "stream",
          "name": "stdout",
          "text": [
            "Iteartion : 0, strength of connection: [0.1, 0.1], threshold: 0.0, error: 1\n",
            "Iteartion : 1, strength of connection: [0.2, 0.1], threshold: 0.1, error: 1\n",
            "Iteartion : 2, strength of connection: [0.2, 0.1], threshold: 0.20000000000000004, error: 1\n",
            "Iteartion : 3, strength of connection: [0.2, 0.1], threshold: 0.20000000000000004, error: 0\n",
            "Iteartion : 4, strength of connection: [0.2, 0.1], threshold: 0.20000000000000004, error: 0\n",
            "Iteartion : 5, strength of connection: [0.2, 0.1], threshold: 0.20000000000000004, error: 0\n",
            "Iteartion : 6, strength of connection: [0.2, 0.1], threshold: 0.20000000000000004, error: 0\n",
            "Iteartion : 7, strength of connection: [0.2, 0.1], threshold: 0.20000000000000004, error: 0\n",
            "Iteartion : 8, strength of connection: [0.2, 0.1], threshold: 0.20000000000000004, error: 0\n",
            "Iteartion : 9, strength of connection: [0.2, 0.1], threshold: 0.20000000000000004, error: 0\n"
          ]
        }
      ]
    },
    {
      "cell_type": "code",
      "source": [
        "# Test predictions\n",
        "predictions = perceptron.predict(inputs)\n",
        "print(f\"Predictions: {predictions}\")"
      ],
      "metadata": {
        "colab": {
          "base_uri": "https://localhost:8080/"
        },
        "id": "NkVlvEoDLLY1",
        "outputId": "3905f885-0668-461c-ade7-2a4e1879a9cd"
      },
      "execution_count": null,
      "outputs": [
        {
          "output_type": "stream",
          "name": "stdout",
          "text": [
            "Predictions: [0, 0, 0, 1]\n"
          ]
        }
      ]
    }
  ]
}